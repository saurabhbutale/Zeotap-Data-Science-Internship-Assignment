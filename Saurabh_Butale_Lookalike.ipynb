{
 "cells": [
  {
   "cell_type": "markdown",
   "id": "88419c3e-7c3d-465c-9722-df40a23565bc",
   "metadata": {},
   "source": [
    "#### Import Necessary Library"
   ]
  },
  {
   "cell_type": "code",
   "execution_count": 1,
   "id": "2975f8a3-4bbd-46eb-8a3c-972a8b18beae",
   "metadata": {},
   "outputs": [],
   "source": [
    "import pandas as pd\n",
    "import numpy as np\n",
    "from sklearn.preprocessing import StandardScaler\n",
    "from sklearn.metrics.pairwise import cosine_similarity\n",
    "from datetime import datetime"
   ]
  },
  {
   "cell_type": "markdown",
   "id": "fe4e031a-cfe4-4f67-bbb4-32d61a2f1c38",
   "metadata": {},
   "source": [
    "#### Load Datasets"
   ]
  },
  {
   "cell_type": "code",
   "execution_count": 2,
   "id": "ffa69331-4264-4a51-bcf1-2d6e57caf886",
   "metadata": {},
   "outputs": [],
   "source": [
    "customers_df = pd.read_csv('Customers.csv')\n",
    "products_df = pd.read_csv('Products.csv')\n",
    "transactions_df = pd.read_csv('Transactions.csv')"
   ]
  },
  {
   "cell_type": "markdown",
   "id": "8f3543fc-45c8-44e3-b01d-35d2be5ba71d",
   "metadata": {},
   "source": [
    "#### Datasets Structure"
   ]
  },
  {
   "cell_type": "code",
   "execution_count": 3,
   "id": "ff0a17f7-7255-465c-9fc7-e0680e5b115a",
   "metadata": {},
   "outputs": [
    {
     "data": {
      "text/html": [
       "<div>\n",
       "<style scoped>\n",
       "    .dataframe tbody tr th:only-of-type {\n",
       "        vertical-align: middle;\n",
       "    }\n",
       "\n",
       "    .dataframe tbody tr th {\n",
       "        vertical-align: top;\n",
       "    }\n",
       "\n",
       "    .dataframe thead th {\n",
       "        text-align: right;\n",
       "    }\n",
       "</style>\n",
       "<table border=\"1\" class=\"dataframe\">\n",
       "  <thead>\n",
       "    <tr style=\"text-align: right;\">\n",
       "      <th></th>\n",
       "      <th>CustomerID</th>\n",
       "      <th>CustomerName</th>\n",
       "      <th>Region</th>\n",
       "      <th>SignupDate</th>\n",
       "    </tr>\n",
       "  </thead>\n",
       "  <tbody>\n",
       "    <tr>\n",
       "      <th>0</th>\n",
       "      <td>C0001</td>\n",
       "      <td>Lawrence Carroll</td>\n",
       "      <td>South America</td>\n",
       "      <td>2022-07-10</td>\n",
       "    </tr>\n",
       "    <tr>\n",
       "      <th>1</th>\n",
       "      <td>C0002</td>\n",
       "      <td>Elizabeth Lutz</td>\n",
       "      <td>Asia</td>\n",
       "      <td>2022-02-13</td>\n",
       "    </tr>\n",
       "    <tr>\n",
       "      <th>2</th>\n",
       "      <td>C0003</td>\n",
       "      <td>Michael Rivera</td>\n",
       "      <td>South America</td>\n",
       "      <td>2024-03-07</td>\n",
       "    </tr>\n",
       "    <tr>\n",
       "      <th>3</th>\n",
       "      <td>C0004</td>\n",
       "      <td>Kathleen Rodriguez</td>\n",
       "      <td>South America</td>\n",
       "      <td>2022-10-09</td>\n",
       "    </tr>\n",
       "    <tr>\n",
       "      <th>4</th>\n",
       "      <td>C0005</td>\n",
       "      <td>Laura Weber</td>\n",
       "      <td>Asia</td>\n",
       "      <td>2022-08-15</td>\n",
       "    </tr>\n",
       "  </tbody>\n",
       "</table>\n",
       "</div>"
      ],
      "text/plain": [
       "  CustomerID        CustomerName         Region  SignupDate\n",
       "0      C0001    Lawrence Carroll  South America  2022-07-10\n",
       "1      C0002      Elizabeth Lutz           Asia  2022-02-13\n",
       "2      C0003      Michael Rivera  South America  2024-03-07\n",
       "3      C0004  Kathleen Rodriguez  South America  2022-10-09\n",
       "4      C0005         Laura Weber           Asia  2022-08-15"
      ]
     },
     "execution_count": 3,
     "metadata": {},
     "output_type": "execute_result"
    }
   ],
   "source": [
    "customers_df.head(5)"
   ]
  },
  {
   "cell_type": "code",
   "execution_count": 4,
   "id": "7fcae36f-7dbf-469c-94b5-1af310cfa6b4",
   "metadata": {},
   "outputs": [
    {
     "data": {
      "text/html": [
       "<div>\n",
       "<style scoped>\n",
       "    .dataframe tbody tr th:only-of-type {\n",
       "        vertical-align: middle;\n",
       "    }\n",
       "\n",
       "    .dataframe tbody tr th {\n",
       "        vertical-align: top;\n",
       "    }\n",
       "\n",
       "    .dataframe thead th {\n",
       "        text-align: right;\n",
       "    }\n",
       "</style>\n",
       "<table border=\"1\" class=\"dataframe\">\n",
       "  <thead>\n",
       "    <tr style=\"text-align: right;\">\n",
       "      <th></th>\n",
       "      <th>ProductID</th>\n",
       "      <th>ProductName</th>\n",
       "      <th>Category</th>\n",
       "      <th>Price</th>\n",
       "    </tr>\n",
       "  </thead>\n",
       "  <tbody>\n",
       "    <tr>\n",
       "      <th>0</th>\n",
       "      <td>P001</td>\n",
       "      <td>ActiveWear Biography</td>\n",
       "      <td>Books</td>\n",
       "      <td>169.30</td>\n",
       "    </tr>\n",
       "    <tr>\n",
       "      <th>1</th>\n",
       "      <td>P002</td>\n",
       "      <td>ActiveWear Smartwatch</td>\n",
       "      <td>Electronics</td>\n",
       "      <td>346.30</td>\n",
       "    </tr>\n",
       "    <tr>\n",
       "      <th>2</th>\n",
       "      <td>P003</td>\n",
       "      <td>ComfortLiving Biography</td>\n",
       "      <td>Books</td>\n",
       "      <td>44.12</td>\n",
       "    </tr>\n",
       "    <tr>\n",
       "      <th>3</th>\n",
       "      <td>P004</td>\n",
       "      <td>BookWorld Rug</td>\n",
       "      <td>Home Decor</td>\n",
       "      <td>95.69</td>\n",
       "    </tr>\n",
       "    <tr>\n",
       "      <th>4</th>\n",
       "      <td>P005</td>\n",
       "      <td>TechPro T-Shirt</td>\n",
       "      <td>Clothing</td>\n",
       "      <td>429.31</td>\n",
       "    </tr>\n",
       "  </tbody>\n",
       "</table>\n",
       "</div>"
      ],
      "text/plain": [
       "  ProductID              ProductName     Category   Price\n",
       "0      P001     ActiveWear Biography        Books  169.30\n",
       "1      P002    ActiveWear Smartwatch  Electronics  346.30\n",
       "2      P003  ComfortLiving Biography        Books   44.12\n",
       "3      P004            BookWorld Rug   Home Decor   95.69\n",
       "4      P005          TechPro T-Shirt     Clothing  429.31"
      ]
     },
     "execution_count": 4,
     "metadata": {},
     "output_type": "execute_result"
    }
   ],
   "source": [
    "products_df.head(5)"
   ]
  },
  {
   "cell_type": "code",
   "execution_count": 5,
   "id": "f75850be-d53b-48c6-91fc-ab8330e702a6",
   "metadata": {},
   "outputs": [
    {
     "data": {
      "text/html": [
       "<div>\n",
       "<style scoped>\n",
       "    .dataframe tbody tr th:only-of-type {\n",
       "        vertical-align: middle;\n",
       "    }\n",
       "\n",
       "    .dataframe tbody tr th {\n",
       "        vertical-align: top;\n",
       "    }\n",
       "\n",
       "    .dataframe thead th {\n",
       "        text-align: right;\n",
       "    }\n",
       "</style>\n",
       "<table border=\"1\" class=\"dataframe\">\n",
       "  <thead>\n",
       "    <tr style=\"text-align: right;\">\n",
       "      <th></th>\n",
       "      <th>TransactionID</th>\n",
       "      <th>CustomerID</th>\n",
       "      <th>ProductID</th>\n",
       "      <th>TransactionDate</th>\n",
       "      <th>Quantity</th>\n",
       "      <th>TotalValue</th>\n",
       "      <th>Price</th>\n",
       "    </tr>\n",
       "  </thead>\n",
       "  <tbody>\n",
       "    <tr>\n",
       "      <th>0</th>\n",
       "      <td>T00001</td>\n",
       "      <td>C0199</td>\n",
       "      <td>P067</td>\n",
       "      <td>2024-08-25 12:38:23</td>\n",
       "      <td>1</td>\n",
       "      <td>300.68</td>\n",
       "      <td>300.68</td>\n",
       "    </tr>\n",
       "    <tr>\n",
       "      <th>1</th>\n",
       "      <td>T00112</td>\n",
       "      <td>C0146</td>\n",
       "      <td>P067</td>\n",
       "      <td>2024-05-27 22:23:54</td>\n",
       "      <td>1</td>\n",
       "      <td>300.68</td>\n",
       "      <td>300.68</td>\n",
       "    </tr>\n",
       "    <tr>\n",
       "      <th>2</th>\n",
       "      <td>T00166</td>\n",
       "      <td>C0127</td>\n",
       "      <td>P067</td>\n",
       "      <td>2024-04-25 07:38:55</td>\n",
       "      <td>1</td>\n",
       "      <td>300.68</td>\n",
       "      <td>300.68</td>\n",
       "    </tr>\n",
       "    <tr>\n",
       "      <th>3</th>\n",
       "      <td>T00272</td>\n",
       "      <td>C0087</td>\n",
       "      <td>P067</td>\n",
       "      <td>2024-03-26 22:55:37</td>\n",
       "      <td>2</td>\n",
       "      <td>601.36</td>\n",
       "      <td>300.68</td>\n",
       "    </tr>\n",
       "    <tr>\n",
       "      <th>4</th>\n",
       "      <td>T00363</td>\n",
       "      <td>C0070</td>\n",
       "      <td>P067</td>\n",
       "      <td>2024-03-21 15:10:10</td>\n",
       "      <td>3</td>\n",
       "      <td>902.04</td>\n",
       "      <td>300.68</td>\n",
       "    </tr>\n",
       "  </tbody>\n",
       "</table>\n",
       "</div>"
      ],
      "text/plain": [
       "  TransactionID CustomerID ProductID      TransactionDate  Quantity  \\\n",
       "0        T00001      C0199      P067  2024-08-25 12:38:23         1   \n",
       "1        T00112      C0146      P067  2024-05-27 22:23:54         1   \n",
       "2        T00166      C0127      P067  2024-04-25 07:38:55         1   \n",
       "3        T00272      C0087      P067  2024-03-26 22:55:37         2   \n",
       "4        T00363      C0070      P067  2024-03-21 15:10:10         3   \n",
       "\n",
       "   TotalValue   Price  \n",
       "0      300.68  300.68  \n",
       "1      300.68  300.68  \n",
       "2      300.68  300.68  \n",
       "3      601.36  300.68  \n",
       "4      902.04  300.68  "
      ]
     },
     "execution_count": 5,
     "metadata": {},
     "output_type": "execute_result"
    }
   ],
   "source": [
    "transactions_df.head(5)"
   ]
  },
  {
   "cell_type": "markdown",
   "id": "b099f079-b699-4ad7-bae7-7cdb4de57730",
   "metadata": {},
   "source": [
    "#### Create customer feature vectors"
   ]
  },
  {
   "cell_type": "code",
   "execution_count": 6,
   "id": "9292f8df-69c2-4cea-a198-5d529e9b825a",
   "metadata": {},
   "outputs": [],
   "source": [
    "def create_customer_features(customers_df, transactions_df, products_df):\n",
    "    customers_df['SignupDate'] = pd.to_datetime(customers_df['SignupDate'])\n",
    "    transactions_df['TransactionDate'] = pd.to_datetime(transactions_df['TransactionDate'])\n",
    "    \n",
    "    # Calculate customer transaction features\n",
    "    transaction_features = transactions_df.groupby('CustomerID').agg({\n",
    "        'TransactionID': 'count',  \n",
    "        'TotalValue': ['sum', 'mean', 'std'],  \n",
    "        'Quantity': ['sum', 'mean'] \n",
    "    }).fillna(0)\n",
    "    \n",
    "    # Flatten column names\n",
    "    transaction_features.columns = ['_'.join(col).strip() for col in transaction_features.columns.values]\n",
    "    \n",
    "    # Calculate category preferences\n",
    "    # Merge transactions with products to get categories\n",
    "    trans_products = transactions_df.merge(products_df[['ProductID', 'Category']], on='ProductID')\n",
    "    category_preferences = pd.crosstab(\n",
    "        trans_products['CustomerID'], \n",
    "        trans_products['Category'],\n",
    "        values=trans_products['TotalValue'],\n",
    "        aggfunc='sum'\n",
    "    ).fillna(0)\n",
    "    \n",
    "    # Calculate recency and account age\n",
    "    latest_transaction = transactions_df.groupby('CustomerID')['TransactionDate'].max()\n",
    "    first_transaction = transactions_df.groupby('CustomerID')['TransactionDate'].min()\n",
    "    \n",
    "    recency = (datetime.now() - latest_transaction).dt.days\n",
    "    account_age = (latest_transaction - first_transaction).dt.days\n",
    "    \n",
    "    # Create region dummies\n",
    "    region_dummies = pd.get_dummies(customers_df['Region'], prefix='region')\n",
    "    \n",
    "    # Combine all features\n",
    "    customer_features = pd.concat([\n",
    "        transaction_features,\n",
    "        category_preferences,\n",
    "        pd.DataFrame({\n",
    "            'recency': recency,\n",
    "            'account_age': account_age\n",
    "        }),\n",
    "        region_dummies\n",
    "    ], axis=1).fillna(0)\n",
    "    return customer_features"
   ]
  },
  {
   "cell_type": "markdown",
   "id": "3d4929df-3507-4102-9bf1-8124329c7618",
   "metadata": {},
   "source": [
    "#### calculate  cosine similarity scores between target customer and all other customers"
   ]
  },
  {
   "cell_type": "code",
   "execution_count": 7,
   "id": "db974495-b974-42ea-a75e-5d1f574e01cf",
   "metadata": {},
   "outputs": [],
   "source": [
    "def calculate_similarity_scores(customer_features, target_customer_id, n_recommendations=3):\n",
    "    # Standardize features\n",
    "    scaler = StandardScaler()\n",
    "    features_scaled = scaler.fit_transform(customer_features)\n",
    "    \n",
    "    # Calculate cosine similarity\n",
    "    similarity_matrix = cosine_similarity(features_scaled)\n",
    "    \n",
    "    # Get target customer index\n",
    "    target_idx = customer_features.index.get_loc(target_customer_id)\n",
    "    \n",
    "    # Get similarity scores for target customer\n",
    "    similarity_scores = similarity_matrix[target_idx]\n",
    "    \n",
    "    # Create DataFrame with customer IDs and similarity scores\n",
    "    similar_customers = pd.DataFrame({\n",
    "        'CustomerID': customer_features.index,\n",
    "        'SimilarityScore': similarity_scores\n",
    "    })\n",
    "    \n",
    "    # Remove the target customer\n",
    "    similar_customers = similar_customers[similar_customers['CustomerID'] != target_customer_id]\n",
    "    \n",
    "    # Sort by similarity score and get top N recommendations\n",
    "    top_similar = similar_customers.nlargest(n_recommendations, 'SimilarityScore')\n",
    "    return top_similar"
   ]
  },
  {
   "cell_type": "markdown",
   "id": "c3c56fe9-15d9-4d2c-a38b-bc38e100382a",
   "metadata": {},
   "source": [
    "### Create customer features"
   ]
  },
  {
   "cell_type": "code",
   "execution_count": 8,
   "id": "ae840d38-b663-44c4-9e15-055d0213a8e7",
   "metadata": {},
   "outputs": [],
   "source": [
    "customer_features = create_customer_features(customers_df, transactions_df, products_df)"
   ]
  },
  {
   "cell_type": "markdown",
   "id": "d30b9f89-ad28-44cf-8d24-04aa26874996",
   "metadata": {},
   "source": [
    "### Generate lookalike recommendations for first 20 customers"
   ]
  },
  {
   "cell_type": "code",
   "execution_count": 9,
   "id": "1aa24d67-1a4d-47af-9a76-0c237a21ef7c",
   "metadata": {},
   "outputs": [],
   "source": [
    "lookalike_results = []\n",
    "for customer_id in customers_df['CustomerID'][:20]:  # First 20 customers\n",
    "    similar_customers = calculate_similarity_scores(customer_features, customer_id)\n",
    "    recommendations = []\n",
    "    for _, row in similar_customers.iterrows():\n",
    "        recommendations.append(f\"{row['CustomerID']}({row['SimilarityScore']:.3f})\")\n",
    "    \n",
    "    lookalike_results.append({\n",
    "        'CustomerID': customer_id,\n",
    "        'Recommendations': ' | '.join(recommendations)\n",
    "    })"
   ]
  },
  {
   "cell_type": "markdown",
   "id": "55324f23-e942-400b-a701-d9b62682c502",
   "metadata": {},
   "source": [
    "### Create final output DataFrame"
   ]
  },
  {
   "cell_type": "code",
   "execution_count": 10,
   "id": "a6c3e566-bbef-43b3-817e-74f0a7abaedc",
   "metadata": {},
   "outputs": [],
   "source": [
    "lookalike_df = pd.DataFrame(lookalike_results)"
   ]
  },
  {
   "cell_type": "markdown",
   "id": "825c4f7f-173e-400b-a12a-360e31e715d9",
   "metadata": {},
   "source": [
    "### Display lookalikes for the first 20 customers"
   ]
  },
  {
   "cell_type": "code",
   "execution_count": 13,
   "id": "7be6a563-1672-4ead-84de-b5442b980349",
   "metadata": {},
   "outputs": [
    {
     "name": "stdout",
     "output_type": "stream",
     "text": [
      "  CustomerID                             Recommendations\n",
      "0      C0001  C0069(0.970) | C0183(0.918) | C0072(0.916)\n",
      "1      C0002  C0036(0.920) | C0134(0.895) | C0133(0.869)\n",
      "2      C0003  C0166(0.947) | C0007(0.932) | C0026(0.894)\n"
     ]
    }
   ],
   "source": [
    "print(lookalike_df.head(3))"
   ]
  },
  {
   "cell_type": "markdown",
   "id": "c034d27a-cbe6-4438-b29a-4ed70cbefb02",
   "metadata": {},
   "source": [
    "#### Save to CSV"
   ]
  },
  {
   "cell_type": "code",
   "execution_count": 12,
   "id": "c7b3268d-ed8d-4ed4-9dbc-a76f82d44e44",
   "metadata": {},
   "outputs": [],
   "source": [
    "lookalike_df.to_csv('Lookalike.csv', index=False)"
   ]
  },
  {
   "cell_type": "code",
   "execution_count": null,
   "id": "ede1f687-303d-47ed-91ee-614de67c3e0a",
   "metadata": {},
   "outputs": [],
   "source": []
  }
 ],
 "metadata": {
  "kernelspec": {
   "display_name": "Python 3 (ipykernel)",
   "language": "python",
   "name": "python3"
  },
  "language_info": {
   "codemirror_mode": {
    "name": "ipython",
    "version": 3
   },
   "file_extension": ".py",
   "mimetype": "text/x-python",
   "name": "python",
   "nbconvert_exporter": "python",
   "pygments_lexer": "ipython3",
   "version": "3.11.4"
  }
 },
 "nbformat": 4,
 "nbformat_minor": 5
}
